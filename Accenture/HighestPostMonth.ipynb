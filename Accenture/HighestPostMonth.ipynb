{
 "cells": [
  {
   "cell_type": "code",
   "execution_count": 1,
   "id": "c430bd52-8962-4ec3-8473-4033b8e0567f",
   "metadata": {},
   "outputs": [
    {
     "data": {
      "text/plain": [
       "Year          2021\n",
       "Month            5\n",
       "Post Count    2138\n",
       "Name: 11, dtype: int64"
      ]
     },
     "execution_count": 1,
     "metadata": {},
     "output_type": "execute_result"
    }
   ],
   "source": [
    "import pandas as pd\n",
    "\n",
    "# Load the dataset\n",
    "\n",
    "df = pd.read_csv('Task 3_Final Content Data set.csv')\n",
    "\n",
    "# Convert Datetime column to datetime format\n",
    "df['Datetime'] = pd.to_datetime(df['Datetime'], format='%d-%m-%Y %H:%M')\n",
    "\n",
    "# Extract month and year from Datetime column\n",
    "df['Month'] = df['Datetime'].dt.month\n",
    "df['Year'] = df['Datetime'].dt.year\n",
    "\n",
    "# Group by Year and Month and count the number of posts\n",
    "monthly_posts = df.groupby(['Year', 'Month']).size().reset_index(name='Post Count')\n",
    "\n",
    "# Find the month with the highest number of posts\n",
    "max_posts = monthly_posts.loc[monthly_posts['Post Count'].idxmax()]\n",
    "\n",
    "max_posts\n"
   ]
  },
  {
   "cell_type": "code",
   "execution_count": 2,
   "id": "a649f4fc-9121-45e5-95be-1d16f60cf929",
   "metadata": {},
   "outputs": [
    {
     "name": "stdout",
     "output_type": "stream",
     "text": [
      "The month with the highest number of posts is 5/2021 with 2138 posts.\n"
     ]
    }
   ],
   "source": [
    "import pandas as pd\n",
    "\n",
    "# Load the dataset\n",
    "df = pd.read_csv('Task 3_Final Content Data set.csv')\n",
    "\n",
    "# Convert Datetime column to datetime format and extract month and year\n",
    "df['Datetime'] = pd.to_datetime(df['Datetime'], format='%d-%m-%Y %H:%M')\n",
    "df['Month'] = df['Datetime'].dt.month\n",
    "df['Year'] = df['Datetime'].dt.year\n",
    "\n",
    "# Group by Year and Month, count the number of posts, and find the month with max posts\n",
    "max_posts = df.groupby(['Year', 'Month']).size().idxmax()\n",
    "\n",
    "max_posts_count = df.groupby(['Year', 'Month']).size().max()\n",
    "\n",
    "max_posts_year, max_posts_month = max_posts\n",
    "\n",
    "print(f\"The month with the highest number of posts is {max_posts_month}/{max_posts_year} with {max_posts_count} posts.\")\n"
   ]
  },
  {
   "cell_type": "code",
   "execution_count": 3,
   "id": "24ec9537-acdb-4e0c-a764-6dcacac1c883",
   "metadata": {},
   "outputs": [
    {
     "name": "stdout",
     "output_type": "stream",
     "text": [
      "The month with the highest number of posts is 5.\n"
     ]
    }
   ],
   "source": [
    "import pandas as pd\n",
    "\n",
    "# Load the dataset\n",
    "df = pd.read_csv('Task 3_Final Content Data set.csv')\n",
    "\n",
    "# Convert Datetime column to datetime format and extract month\n",
    "df['Datetime'] = pd.to_datetime(df['Datetime'], format='%d-%m-%Y %H:%M')\n",
    "df['Month'] = df['Datetime'].dt.month\n",
    "\n",
    "# Count posts per month\n",
    "monthly_posts_count = df['Month'].value_counts()\n",
    "\n",
    "# Find the month with the highest number of posts\n",
    "max_posts_month = monthly_posts_count.idxmax()\n",
    "\n",
    "print(f\"The month with the highest number of posts is {max_posts_month}.\")\n",
    "\n"
   ]
  },
  {
   "cell_type": "code",
   "execution_count": 4,
   "id": "69cfb4fe-9e68-4d4d-8adb-4429197e1b5c",
   "metadata": {},
   "outputs": [
    {
     "name": "stdout",
     "output_type": "stream",
     "text": [
      "The month with the highest number of posts is 5 (May).\n"
     ]
    }
   ],
   "source": [
    "import pandas as pd\n",
    "import calendar\n",
    "\n",
    "# Load the dataset\n",
    "df = pd.read_csv('Task 3_Final Content Data set.csv')\n",
    "\n",
    "# Convert Datetime column to datetime format and extract month\n",
    "df['Datetime'] = pd.to_datetime(df['Datetime'], format='%d-%m-%Y %H:%M')\n",
    "df['Month'] = df['Datetime'].dt.month\n",
    "\n",
    "# Count posts per month\n",
    "monthly_posts_count = df['Month'].value_counts()\n",
    "\n",
    "# Find the month with the highest number of posts\n",
    "max_posts_month = monthly_posts_count.idxmax()\n",
    "\n",
    "# Get month name\n",
    "max_posts_month_name = calendar.month_name[max_posts_month]\n",
    "\n",
    "print(f\"The month with the highest number of posts is {max_posts_month} ({max_posts_month_name}).\")\n"
   ]
  },
  {
   "cell_type": "code",
   "execution_count": null,
   "id": "bcc69a20-fe6f-4d46-9415-1d5f14560482",
   "metadata": {},
   "outputs": [],
   "source": []
  }
 ],
 "metadata": {
  "kernelspec": {
   "display_name": "Python 3 (ipykernel)",
   "language": "python",
   "name": "python3"
  },
  "language_info": {
   "codemirror_mode": {
    "name": "ipython",
    "version": 3
   },
   "file_extension": ".py",
   "mimetype": "text/x-python",
   "name": "python",
   "nbconvert_exporter": "python",
   "pygments_lexer": "ipython3",
   "version": "3.12.4"
  }
 },
 "nbformat": 4,
 "nbformat_minor": 5
}
